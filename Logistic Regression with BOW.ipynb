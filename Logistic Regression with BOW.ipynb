{
 "cells": [
  {
   "cell_type": "code",
   "execution_count": 21,
   "id": "9e845fff",
   "metadata": {},
   "outputs": [],
   "source": [
    "import pandas as pd \n",
    "import numpy as np\n",
    "from sklearn.linear_model import LogisticRegression\n",
    "from sklearn.model_selection import train_test_split\n",
    "import matplotlib.pyplot as plt\n",
    "from sklearn.feature_extraction.text import CountVectorizer,TfidfVectorizer,TfidfTransformer\n",
    "from sklearn.metrics import accuracy_score\n",
    "from sklearn.metrics import confusion_matrix\n",
    "from sklearn.preprocessing import StandardScaler\n",
    "import time\n",
    "from sklearn.model_selection import cross_val_score\n",
    "import warnings \n",
    "warnings.filterwarnings('ignore')"
   ]
  },
  {
   "cell_type": "code",
   "execution_count": 22,
   "id": "62bd4518",
   "metadata": {},
   "outputs": [
    {
     "data": {
      "text/html": [
       "<div>\n",
       "<style scoped>\n",
       "    .dataframe tbody tr th:only-of-type {\n",
       "        vertical-align: middle;\n",
       "    }\n",
       "\n",
       "    .dataframe tbody tr th {\n",
       "        vertical-align: top;\n",
       "    }\n",
       "\n",
       "    .dataframe thead th {\n",
       "        text-align: right;\n",
       "    }\n",
       "</style>\n",
       "<table border=\"1\" class=\"dataframe\">\n",
       "  <thead>\n",
       "    <tr style=\"text-align: right;\">\n",
       "      <th></th>\n",
       "      <th>Text</th>\n",
       "      <th>Score</th>\n",
       "      <th>Time</th>\n",
       "    </tr>\n",
       "  </thead>\n",
       "  <tbody>\n",
       "    <tr>\n",
       "      <th>0</th>\n",
       "      <td>witty little book makes son laugh loud recite ...</td>\n",
       "      <td>1</td>\n",
       "      <td>939340800</td>\n",
       "    </tr>\n",
       "    <tr>\n",
       "      <th>1</th>\n",
       "      <td>grew reading sendak books watching really rosi...</td>\n",
       "      <td>1</td>\n",
       "      <td>1194739200</td>\n",
       "    </tr>\n",
       "    <tr>\n",
       "      <th>2</th>\n",
       "      <td>fun way children learn months year learn poems...</td>\n",
       "      <td>1</td>\n",
       "      <td>1191456000</td>\n",
       "    </tr>\n",
       "    <tr>\n",
       "      <th>3</th>\n",
       "      <td>great little book read aloud nice rhythm well ...</td>\n",
       "      <td>1</td>\n",
       "      <td>1076025600</td>\n",
       "    </tr>\n",
       "    <tr>\n",
       "      <th>4</th>\n",
       "      <td>book poetry months year goes month cute little...</td>\n",
       "      <td>1</td>\n",
       "      <td>1018396800</td>\n",
       "    </tr>\n",
       "  </tbody>\n",
       "</table>\n",
       "</div>"
      ],
      "text/plain": [
       "                                                Text  Score        Time\n",
       "0  witty little book makes son laugh loud recite ...      1   939340800\n",
       "1  grew reading sendak books watching really rosi...      1  1194739200\n",
       "2  fun way children learn months year learn poems...      1  1191456000\n",
       "3  great little book read aloud nice rhythm well ...      1  1076025600\n",
       "4  book poetry months year goes month cute little...      1  1018396800"
      ]
     },
     "execution_count": 22,
     "metadata": {},
     "output_type": "execute_result"
    }
   ],
   "source": [
    "data=pd.read_csv('preprocessed_file.csv')\n",
    "data.head()"
   ]
  },
  {
   "cell_type": "code",
   "execution_count": 23,
   "id": "80b57021",
   "metadata": {},
   "outputs": [
    {
     "data": {
      "text/plain": [
       "Text      True\n",
       "Score    False\n",
       "Time     False\n",
       "dtype: bool"
      ]
     },
     "execution_count": 23,
     "metadata": {},
     "output_type": "execute_result"
    }
   ],
   "source": [
    "data.isnull().any()"
   ]
  },
  {
   "cell_type": "code",
   "execution_count": 24,
   "id": "caa6db8c",
   "metadata": {},
   "outputs": [],
   "source": [
    "data=data.dropna()"
   ]
  },
  {
   "cell_type": "code",
   "execution_count": 25,
   "id": "6c51a210",
   "metadata": {},
   "outputs": [
    {
     "data": {
      "text/plain": [
       "Text     False\n",
       "Score    False\n",
       "Time     False\n",
       "dtype: bool"
      ]
     },
     "execution_count": 25,
     "metadata": {},
     "output_type": "execute_result"
    }
   ],
   "source": [
    "data.isnull().any()"
   ]
  },
  {
   "cell_type": "code",
   "execution_count": 26,
   "id": "de38ec46",
   "metadata": {},
   "outputs": [
    {
     "data": {
      "text/html": [
       "<div>\n",
       "<style scoped>\n",
       "    .dataframe tbody tr th:only-of-type {\n",
       "        vertical-align: middle;\n",
       "    }\n",
       "\n",
       "    .dataframe tbody tr th {\n",
       "        vertical-align: top;\n",
       "    }\n",
       "\n",
       "    .dataframe thead th {\n",
       "        text-align: right;\n",
       "    }\n",
       "</style>\n",
       "<table border=\"1\" class=\"dataframe\">\n",
       "  <thead>\n",
       "    <tr style=\"text-align: right;\">\n",
       "      <th></th>\n",
       "      <th>Text</th>\n",
       "      <th>Score</th>\n",
       "      <th>Time</th>\n",
       "    </tr>\n",
       "  </thead>\n",
       "  <tbody>\n",
       "    <tr>\n",
       "      <th>0</th>\n",
       "      <td>witty little book makes son laugh loud recite ...</td>\n",
       "      <td>1</td>\n",
       "      <td>939340800</td>\n",
       "    </tr>\n",
       "    <tr>\n",
       "      <th>1</th>\n",
       "      <td>grew reading sendak books watching really rosi...</td>\n",
       "      <td>1</td>\n",
       "      <td>1194739200</td>\n",
       "    </tr>\n",
       "    <tr>\n",
       "      <th>2</th>\n",
       "      <td>fun way children learn months year learn poems...</td>\n",
       "      <td>1</td>\n",
       "      <td>1191456000</td>\n",
       "    </tr>\n",
       "    <tr>\n",
       "      <th>3</th>\n",
       "      <td>great little book read aloud nice rhythm well ...</td>\n",
       "      <td>1</td>\n",
       "      <td>1076025600</td>\n",
       "    </tr>\n",
       "    <tr>\n",
       "      <th>4</th>\n",
       "      <td>book poetry months year goes month cute little...</td>\n",
       "      <td>1</td>\n",
       "      <td>1018396800</td>\n",
       "    </tr>\n",
       "  </tbody>\n",
       "</table>\n",
       "</div>"
      ],
      "text/plain": [
       "                                                Text  Score        Time\n",
       "0  witty little book makes son laugh loud recite ...      1   939340800\n",
       "1  grew reading sendak books watching really rosi...      1  1194739200\n",
       "2  fun way children learn months year learn poems...      1  1191456000\n",
       "3  great little book read aloud nice rhythm well ...      1  1076025600\n",
       "4  book poetry months year goes month cute little...      1  1018396800"
      ]
     },
     "execution_count": 26,
     "metadata": {},
     "output_type": "execute_result"
    }
   ],
   "source": [
    "data.head()"
   ]
  },
  {
   "cell_type": "code",
   "execution_count": 27,
   "id": "1b9aa37b",
   "metadata": {},
   "outputs": [
    {
     "data": {
      "text/html": [
       "<div>\n",
       "<style scoped>\n",
       "    .dataframe tbody tr th:only-of-type {\n",
       "        vertical-align: middle;\n",
       "    }\n",
       "\n",
       "    .dataframe tbody tr th {\n",
       "        vertical-align: top;\n",
       "    }\n",
       "\n",
       "    .dataframe thead th {\n",
       "        text-align: right;\n",
       "    }\n",
       "</style>\n",
       "<table border=\"1\" class=\"dataframe\">\n",
       "  <thead>\n",
       "    <tr style=\"text-align: right;\">\n",
       "      <th></th>\n",
       "      <th>Text</th>\n",
       "      <th>Score</th>\n",
       "      <th>Time</th>\n",
       "    </tr>\n",
       "  </thead>\n",
       "  <tbody>\n",
       "    <tr>\n",
       "      <th>0</th>\n",
       "      <td>witty little book makes son laugh loud recite ...</td>\n",
       "      <td>1</td>\n",
       "      <td>1999-10-08</td>\n",
       "    </tr>\n",
       "    <tr>\n",
       "      <th>1</th>\n",
       "      <td>remember seeing show aired television years ag...</td>\n",
       "      <td>1</td>\n",
       "      <td>1999-10-25</td>\n",
       "    </tr>\n",
       "    <tr>\n",
       "      <th>2</th>\n",
       "      <td>beetlejuice well written movie everything exce...</td>\n",
       "      <td>1</td>\n",
       "      <td>1999-12-02</td>\n",
       "    </tr>\n",
       "    <tr>\n",
       "      <th>3</th>\n",
       "      <td>twist rumplestiskin captured film starring mic...</td>\n",
       "      <td>1</td>\n",
       "      <td>1999-12-06</td>\n",
       "    </tr>\n",
       "    <tr>\n",
       "      <th>4</th>\n",
       "      <td>beetlejuice excellent funny movie keaton hilar...</td>\n",
       "      <td>1</td>\n",
       "      <td>2000-01-03</td>\n",
       "    </tr>\n",
       "  </tbody>\n",
       "</table>\n",
       "</div>"
      ],
      "text/plain": [
       "                                                Text  Score       Time\n",
       "0  witty little book makes son laugh loud recite ...      1 1999-10-08\n",
       "1  remember seeing show aired television years ag...      1 1999-10-25\n",
       "2  beetlejuice well written movie everything exce...      1 1999-12-02\n",
       "3  twist rumplestiskin captured film starring mic...      1 1999-12-06\n",
       "4  beetlejuice excellent funny movie keaton hilar...      1 2000-01-03"
      ]
     },
     "execution_count": 27,
     "metadata": {},
     "output_type": "execute_result"
    }
   ],
   "source": [
    "data['Time']=pd.to_datetime(data['Time'],unit='s')\n",
    "data=data.sort_values('Time')\n",
    "data=data.reset_index(drop=True)\n",
    "data.head()"
   ]
  },
  {
   "cell_type": "code",
   "execution_count": 28,
   "id": "6694a11d",
   "metadata": {},
   "outputs": [
    {
     "data": {
      "text/plain": [
       "(363180, 3)"
      ]
     },
     "execution_count": 28,
     "metadata": {},
     "output_type": "execute_result"
    }
   ],
   "source": [
    "data.shape"
   ]
  },
  {
   "cell_type": "code",
   "execution_count": 29,
   "id": "dc83c37d",
   "metadata": {},
   "outputs": [],
   "source": [
    "data=data.sample(100000,random_state=42,replace=True)"
   ]
  },
  {
   "cell_type": "code",
   "execution_count": 30,
   "id": "b56ff6e8",
   "metadata": {},
   "outputs": [
    {
     "name": "stdout",
     "output_type": "stream",
     "text": [
      "(70000,) (70000,)\n",
      "(30000,) (30000,)\n"
     ]
    }
   ],
   "source": [
    "x=data[\"Text\"]\n",
    "y=data[\"Score\"]\n",
    "x_train,x_test,y_train,y_test=train_test_split(x,y,stratify=y,test_size=0.3,random_state=42)\n",
    "print(x_train.shape,y_train.shape)\n",
    "print(x_test.shape,y_test.shape)"
   ]
  },
  {
   "cell_type": "code",
   "execution_count": 31,
   "id": "a05668ef",
   "metadata": {},
   "outputs": [
    {
     "data": {
      "text/plain": [
       "1    84496\n",
       "0    15504\n",
       "Name: Score, dtype: int64"
      ]
     },
     "execution_count": 31,
     "metadata": {},
     "output_type": "execute_result"
    }
   ],
   "source": [
    "y.value_counts()"
   ]
  },
  {
   "cell_type": "markdown",
   "id": "d5a31d98",
   "metadata": {},
   "source": [
    "## Applying Bag of Words"
   ]
  },
  {
   "cell_type": "code",
   "execution_count": 32,
   "id": "120a4070",
   "metadata": {},
   "outputs": [],
   "source": [
    "count_vect = CountVectorizer().fit(x_train) #in scikit-learn"
   ]
  },
  {
   "cell_type": "code",
   "execution_count": 33,
   "id": "25cb5f3d",
   "metadata": {},
   "outputs": [],
   "source": [
    "X_train_bow=count_vect.transform(x_train)\n",
    "X_test_bow=count_vect.transform(x_test)"
   ]
  },
  {
   "cell_type": "code",
   "execution_count": 34,
   "id": "f86353e0",
   "metadata": {},
   "outputs": [
    {
     "name": "stdout",
     "output_type": "stream",
     "text": [
      "Features Name: ['aa', 'aaa', 'aaaa', 'aaaaa', 'aaaaaaah', 'aaaaah', 'aaaahhhhhh', 'aaaallll', 'aaaand', 'aaaarrrrghh']\n"
     ]
    }
   ],
   "source": [
    "print(\"Features Name:\",count_vect.get_feature_names()[:10])"
   ]
  },
  {
   "cell_type": "code",
   "execution_count": 35,
   "id": "bbf7464f",
   "metadata": {},
   "outputs": [
    {
     "name": "stdout",
     "output_type": "stream",
     "text": [
      "The shape of the X_train_vectors is : (70000, 48469)\n",
      "The shape of the X_test_vectors is : (30000, 48469)\n"
     ]
    }
   ],
   "source": [
    "scalar = StandardScaler(with_mean=False)\n",
    "scalar.fit(X_train_bow)\n",
    "X_train_stand = scalar.transform(X_train_bow)\n",
    "X_test_stand = scalar.transform(X_test_bow)\n",
    "print(\"The shape of the X_train_vectors is : {}\".format(X_train_stand.shape))\n",
    "print(\"The shape of the X_test_vectors is : {}\".format(X_test_stand.shape))"
   ]
  },
  {
   "cell_type": "code",
   "execution_count": 36,
   "id": "0421821b",
   "metadata": {},
   "outputs": [
    {
     "name": "stdout",
     "output_type": "stream",
     "text": [
      "\n",
      "The optimal alpha is 0.6\n",
      "Total time in minutes =  0.5409922122955322\n"
     ]
    }
   ],
   "source": [
    "start = time.time()\n",
    "# creating list of C\n",
    "C_values = np.linspace(0.1,1,10)\n",
    "\n",
    "cv_scores = [] # empty list that will hold cv scores\n",
    "\n",
    "# Try each value of alpha in the below loop\n",
    "for c in C_values:\n",
    "    # Create an object of the class Logistic Regression with balanced class weights\n",
    "    clf = LogisticRegression(C = c, class_weight = 'balanced',max_iter=5,solver='saga')\n",
    "    # perform 5-fold cross validation\n",
    "    # It returns the cv accuracy for each fold in a list\n",
    "    scores = cross_val_score(clf,X_train_stand, y_train, cv=5, scoring='accuracy')\n",
    "    # Store the mean of the accuracies from all the 5 folds\n",
    "    cv_scores.append(scores.mean())\n",
    "\n",
    "# calculate misclassification error from accuracy (error = 1 - accuracy)\n",
    "cv_error = [1 - x for x in cv_scores]\n",
    "\n",
    "# optimal (best) C is the one for which error is minimum (or accuracy is maximum)\n",
    "optimal_C = C_values[cv_error.index(min(cv_error))]\n",
    "print('\\nThe optimal alpha is', optimal_C)\n",
    "\n",
    "end = time.time()\n",
    "print(\"Total time in minutes = \", (end-start)/60)"
   ]
  },
  {
   "cell_type": "code",
   "execution_count": 37,
   "id": "d133d4c7",
   "metadata": {},
   "outputs": [
    {
     "name": "stdout",
     "output_type": "stream",
     "text": [
      "\n",
      "The accuracy of the classifier for k = 0 is 89.543333%\n"
     ]
    }
   ],
   "source": [
    "optimal_c =LogisticRegression(C=optimal_C)\n",
    "# fitting the model\n",
    "optimal_c.fit(X_train_stand,y_train)\n",
    "# predict the response\n",
    "pred = optimal_c.predict(X_test_stand)\n",
    "\n",
    "# evaluate accuracy\n",
    "acc = accuracy_score(y_test, pred) * 100\n",
    "print('\\nThe accuracy of the classifier for k = %d is %f%%' % (optimal_C, acc))"
   ]
  },
  {
   "cell_type": "code",
   "execution_count": 38,
   "id": "e7a5bd9b",
   "metadata": {},
   "outputs": [
    {
     "data": {
      "text/plain": [
       "array([[ 3206,  1445],\n",
       "       [ 1692, 23657]], dtype=int64)"
      ]
     },
     "execution_count": 38,
     "metadata": {},
     "output_type": "execute_result"
    }
   ],
   "source": [
    "confusion_matrix(y_test,pred)"
   ]
  },
  {
   "cell_type": "code",
   "execution_count": null,
   "id": "1587e6f4",
   "metadata": {},
   "outputs": [],
   "source": []
  }
 ],
 "metadata": {
  "kernelspec": {
   "display_name": "Python 3 (ipykernel)",
   "language": "python",
   "name": "python3"
  },
  "language_info": {
   "codemirror_mode": {
    "name": "ipython",
    "version": 3
   },
   "file_extension": ".py",
   "mimetype": "text/x-python",
   "name": "python",
   "nbconvert_exporter": "python",
   "pygments_lexer": "ipython3",
   "version": "3.9.12"
  }
 },
 "nbformat": 4,
 "nbformat_minor": 5
}
